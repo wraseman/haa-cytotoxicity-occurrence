{
 "cells": [
  {
   "cell_type": "markdown",
   "metadata": {},
   "source": [
    "## Script #1: Read UCRM4 FOIA HAA Data and Calculate Metrics\n",
    "__Author__: Billy Raseman\n",
    "\n",
    "__Purpose__: read in species-level occurrence data from the UCMR4 dataset, combine with \"dimension table\" (contains metadata about individual HAAs, such as group, CHO cytotoxicity, and molecular weight) and calculate the following: \n",
    "- Group-level occurrence for HAA5, HAA6Br, HAA9, mHAA, dHAA, and tHAA\n",
    "- Group-level CAT (cytotoxicity index)\n",
    "- Group-level BSF (bromide substition factors)"
   ]
  },
  {
   "cell_type": "code",
   "execution_count": 1,
   "metadata": {},
   "outputs": [],
   "source": [
    "# Import packages\n",
    "import pandas as pd\n",
    "import numpy as np\n",
    "import matplotlib.pyplot as plt\n",
    "import matplotlib.patches as mpatches\n",
    "import seaborn as sns"
   ]
  },
  {
   "cell_type": "markdown",
   "metadata": {},
   "source": [
    "### User inputs"
   ]
  },
  {
   "cell_type": "code",
   "execution_count": 2,
   "metadata": {},
   "outputs": [],
   "source": [
    "# File paths\n",
    "dim_path = r'C:\\Users\\WRaseman\\OneDrive - Hazen and Sawyer\\Projects - Active\\70063-000 WRF 5085 HAA\\Python\\UCMR4_FOIA_CTI\\data\\haa9_dimension_table.csv'\n",
    "\n",
    "AtoF_path = r'C:\\Users\\WRaseman\\OneDrive - Hazen and Sawyer\\Projects - Active\\70063-000 WRF 5085 HAA\\Python\\UCMR4_FOIA_CTI\\data\\UCMR4 FOIA\\NCOD_UCMR4_QHS_220103_A to F.xlsx'\n",
    "GtoM_path = r'C:\\Users\\WRaseman\\OneDrive - Hazen and Sawyer\\Projects - Active\\70063-000 WRF 5085 HAA\\Python\\UCMR4_FOIA_CTI\\data\\UCMR4 FOIA\\NCOD_UCMR4_QHS_220103_G to M.xlsx'\n",
    "NtoP_path = r'C:\\Users\\WRaseman\\OneDrive - Hazen and Sawyer\\Projects - Active\\70063-000 WRF 5085 HAA\\Python\\UCMR4_FOIA_CTI\\data\\UCMR4 FOIA\\NCOD_UCMR4_QHS_220103 N to P.xlsx'\n",
    "RtoW_path = r'C:\\Users\\WRaseman\\OneDrive - Hazen and Sawyer\\Projects - Active\\70063-000 WRF 5085 HAA\\Python\\UCMR4_FOIA_CTI\\data\\UCMR4 FOIA\\NCOD_UCMR4_QHS_220103 R to W.xlsx'\n",
    "foia_files = [AtoF_path, GtoM_path, NtoP_path, RtoW_path]\n",
    "\n",
    "out_ocr_path = r'C:\\Users\\WRaseman\\OneDrive - Hazen and Sawyer\\Projects - Active\\70063-000 WRF 5085 HAA\\Python\\UCMR4_FOIA_CTI\\jupyter\\sprint_6_manuscript\\output\\foia_species_occur.csv'\n",
    "out_ocrplus_path = r'C:\\Users\\WRaseman\\OneDrive - Hazen and Sawyer\\Projects - Active\\70063-000 WRF 5085 HAA\\Python\\UCMR4_FOIA_CTI\\jupyter\\sprint_6_manuscript\\output\\foia_species_occur_CAT_molarconc.csv'\n",
    "out_grp_path = r'C:\\Users\\WRaseman\\OneDrive - Hazen and Sawyer\\Projects - Active\\70063-000 WRF 5085 HAA\\Python\\UCMR4_FOIA_CTI\\jupyter\\sprint_6_manuscript\\output\\foia_grp_occur_CAT_molarc_BSF.csv'\n",
    "\n",
    "# # Which occurrence data to import? ('AtoF', 'GtoM', 'NtoP', 'RtoW', 'all')\n",
    "# which_foia = 'all'  \n",
    "\n",
    "# Calculation assumptions\n",
    "value_belowMRL = 0  # assume that any non-detects are equivalent to zero ug/L\n",
    "\n",
    "# MRLs (ug/L) for EPA 552.3\n",
    "MRL_MBAA = 0.3  \n",
    "MRL_MCAA = 2.0  \n",
    "\n",
    "# Exclude MBAA and MCAA?\n",
    "exclude_mHAAs = False\n",
    "\n",
    "# MCLs (ug/L)\n",
    "HAA5_MCL = 60\n"
   ]
  },
  {
   "cell_type": "markdown",
   "metadata": {},
   "source": [
    "### Read data"
   ]
  },
  {
   "cell_type": "code",
   "execution_count": 3,
   "metadata": {},
   "outputs": [],
   "source": [
    "# Read occurrence data\n",
    "df_ocr = pd.DataFrame()\n",
    "for f in foia_files:\n",
    "    data = pd.read_excel(f)\n",
    "    df_ocr = pd.concat([df_ocr, data])\n",
    "    "
   ]
  },
  {
   "cell_type": "code",
   "execution_count": 4,
   "metadata": {},
   "outputs": [
    {
     "data": {
      "text/plain": [
       "Index(['PWSID', 'PWSName', 'Size', 'FacilityID', 'FacilityName',\n",
       "       'FacilityWaterType', 'SamplePointID', 'SamplePointName',\n",
       "       'SamplePointType', 'CollectionDate', 'SampleID', 'Contaminant', 'MRL',\n",
       "       'MethodID', 'AnalyticalResultsSign', 'AnalyticalResultValue(µg/L)',\n",
       "       'SampleEventCode', 'MonitoringRequirement', 'Region', 'State'],\n",
       "      dtype='object')"
      ]
     },
     "execution_count": 4,
     "metadata": {},
     "output_type": "execute_result"
    }
   ],
   "source": [
    "# Inspect FOIA data\n",
    "df_ocr.columns\n"
   ]
  },
  {
   "cell_type": "code",
   "execution_count": 5,
   "metadata": {},
   "outputs": [
    {
     "data": {
      "text/html": [
       "<div>\n",
       "<style scoped>\n",
       "    .dataframe tbody tr th:only-of-type {\n",
       "        vertical-align: middle;\n",
       "    }\n",
       "\n",
       "    .dataframe tbody tr th {\n",
       "        vertical-align: top;\n",
       "    }\n",
       "\n",
       "    .dataframe thead th {\n",
       "        text-align: right;\n",
       "    }\n",
       "</style>\n",
       "<table border=\"1\" class=\"dataframe\">\n",
       "  <thead>\n",
       "    <tr style=\"text-align: right;\">\n",
       "      <th></th>\n",
       "      <th>FacilityID</th>\n",
       "      <th>MRL</th>\n",
       "      <th>AnalyticalResultValue(µg/L)</th>\n",
       "      <th>Region</th>\n",
       "    </tr>\n",
       "  </thead>\n",
       "  <tbody>\n",
       "    <tr>\n",
       "      <th>count</th>\n",
       "      <td>571214.000000</td>\n",
       "      <td>571214.000000</td>\n",
       "      <td>326057.000000</td>\n",
       "      <td>571214.000000</td>\n",
       "    </tr>\n",
       "    <tr>\n",
       "      <th>mean</th>\n",
       "      <td>45137.764437</td>\n",
       "      <td>0.711077</td>\n",
       "      <td>4.856141</td>\n",
       "      <td>5.247949</td>\n",
       "    </tr>\n",
       "    <tr>\n",
       "      <th>std</th>\n",
       "      <td>41649.283638</td>\n",
       "      <td>0.695119</td>\n",
       "      <td>6.908353</td>\n",
       "      <td>2.523017</td>\n",
       "    </tr>\n",
       "    <tr>\n",
       "      <th>min</th>\n",
       "      <td>0.000000</td>\n",
       "      <td>0.200000</td>\n",
       "      <td>0.200000</td>\n",
       "      <td>1.000000</td>\n",
       "    </tr>\n",
       "    <tr>\n",
       "      <th>25%</th>\n",
       "      <td>600.000000</td>\n",
       "      <td>0.300000</td>\n",
       "      <td>0.940000</td>\n",
       "      <td>4.000000</td>\n",
       "    </tr>\n",
       "    <tr>\n",
       "      <th>50%</th>\n",
       "      <td>30001.000000</td>\n",
       "      <td>0.300000</td>\n",
       "      <td>2.360000</td>\n",
       "      <td>5.000000</td>\n",
       "    </tr>\n",
       "    <tr>\n",
       "      <th>75%</th>\n",
       "      <td>91810.000000</td>\n",
       "      <td>0.500000</td>\n",
       "      <td>5.682000</td>\n",
       "      <td>7.000000</td>\n",
       "    </tr>\n",
       "    <tr>\n",
       "      <th>max</th>\n",
       "      <td>99999.000000</td>\n",
       "      <td>2.000000</td>\n",
       "      <td>246.000000</td>\n",
       "      <td>10.000000</td>\n",
       "    </tr>\n",
       "  </tbody>\n",
       "</table>\n",
       "</div>"
      ],
      "text/plain": [
       "          FacilityID            MRL  AnalyticalResultValue(µg/L)  \\\n",
       "count  571214.000000  571214.000000                326057.000000   \n",
       "mean    45137.764437       0.711077                     4.856141   \n",
       "std     41649.283638       0.695119                     6.908353   \n",
       "min         0.000000       0.200000                     0.200000   \n",
       "25%       600.000000       0.300000                     0.940000   \n",
       "50%     30001.000000       0.300000                     2.360000   \n",
       "75%     91810.000000       0.500000                     5.682000   \n",
       "max     99999.000000       2.000000                   246.000000   \n",
       "\n",
       "              Region  \n",
       "count  571214.000000  \n",
       "mean        5.247949  \n",
       "std         2.523017  \n",
       "min         1.000000  \n",
       "25%         4.000000  \n",
       "50%         5.000000  \n",
       "75%         7.000000  \n",
       "max        10.000000  "
      ]
     },
     "execution_count": 5,
     "metadata": {},
     "output_type": "execute_result"
    }
   ],
   "source": [
    "df_ocr.describe()"
   ]
  },
  {
   "cell_type": "code",
   "execution_count": 6,
   "metadata": {},
   "outputs": [],
   "source": [
    "# Read HAA dimension table\n",
    "df_dim = pd.read_csv(dim_path)\n"
   ]
  },
  {
   "cell_type": "code",
   "execution_count": 7,
   "metadata": {},
   "outputs": [
    {
     "data": {
      "text/plain": [
       "Index(['Contaminant', 'Abbreviation', 'Specific Endpoint', 'LC50 Observations',\n",
       "       'LC50(mol/L)', 'Assay', '1/LC50(L/mol)', 'HAA5', 'HAA6Br', 'HAA9',\n",
       "       'Grp_HAA_EPA', 'Grp_HAA_Halogen', 'Bromine_Count',\n",
       "       'MolecularWeight(g/mol)', 'PubChemID'],\n",
       "      dtype='object')"
      ]
     },
     "execution_count": 7,
     "metadata": {},
     "output_type": "execute_result"
    }
   ],
   "source": [
    "# Inspect dimension table\n",
    "df_dim.columns"
   ]
  },
  {
   "cell_type": "markdown",
   "metadata": {},
   "source": [
    "### Clean up and transform data\n",
    "- Determine value for non-detects\n",
    "- Change data types\n",
    "- Add DBP abbreviations"
   ]
  },
  {
   "cell_type": "code",
   "execution_count": 8,
   "metadata": {},
   "outputs": [],
   "source": [
    "# Change data types of columns\n",
    "df_ocr[\"CollectionDate\"] = pd.to_datetime(df_ocr[\"CollectionDate\"])\n",
    "df_ocr[\"FacilityID\"] = df_ocr[\"FacilityID\"].astype(str)\n",
    "df_ocr[\"Region\"] = df_ocr[\"Region\"].astype(str)\n"
   ]
  },
  {
   "cell_type": "code",
   "execution_count": 9,
   "metadata": {},
   "outputs": [],
   "source": [
    "# Add DBP abbreviations to the dataset\n",
    "haa_dict = {\n",
    "    \"monobromoacetic acid\": \"MBAA\",\n",
    "    \"monochloroacetic acid\": \"MCAA\",\n",
    "    \"dibromoacetic acid\": \"DBAA\",\n",
    "    \"dichloroacetic acid\": \"DCAA\",\n",
    "    \"bromochloroacetic acid\": \"BCAA\",\n",
    "    \"tribromoacetic acid\": \"TBAA\",\n",
    "    \"trichloroacetic acid\": \"TCAA\",\n",
    "    \"chlorodibromoacetic acid\": \"CDBAA\",\n",
    "    \"bromodichloroacetic acid\": \"BDCAA\"\n",
    "}  # chemical compound name and abbreviation dictionary\n",
    "\n",
    "df_ocr['Abbreviation'] = df_ocr['Contaminant'].map(haa_dict)\n"
   ]
  },
  {
   "cell_type": "code",
   "execution_count": 10,
   "metadata": {},
   "outputs": [
    {
     "data": {
      "text/html": [
       "<div>\n",
       "<style scoped>\n",
       "    .dataframe tbody tr th:only-of-type {\n",
       "        vertical-align: middle;\n",
       "    }\n",
       "\n",
       "    .dataframe tbody tr th {\n",
       "        vertical-align: top;\n",
       "    }\n",
       "\n",
       "    .dataframe thead th {\n",
       "        text-align: right;\n",
       "    }\n",
       "</style>\n",
       "<table border=\"1\" class=\"dataframe\">\n",
       "  <thead>\n",
       "    <tr style=\"text-align: right;\">\n",
       "      <th></th>\n",
       "      <th>MRL</th>\n",
       "      <th>AnalyticalResultValue(µg/L)</th>\n",
       "      <th>CalculatedResultValue(µg/L)</th>\n",
       "    </tr>\n",
       "  </thead>\n",
       "  <tbody>\n",
       "    <tr>\n",
       "      <th>count</th>\n",
       "      <td>571214.000000</td>\n",
       "      <td>326057.000000</td>\n",
       "      <td>571214.000000</td>\n",
       "    </tr>\n",
       "    <tr>\n",
       "      <th>mean</th>\n",
       "      <td>0.711077</td>\n",
       "      <td>4.856141</td>\n",
       "      <td>2.771954</td>\n",
       "    </tr>\n",
       "    <tr>\n",
       "      <th>std</th>\n",
       "      <td>0.695119</td>\n",
       "      <td>6.908353</td>\n",
       "      <td>5.746263</td>\n",
       "    </tr>\n",
       "    <tr>\n",
       "      <th>min</th>\n",
       "      <td>0.200000</td>\n",
       "      <td>0.200000</td>\n",
       "      <td>0.000000</td>\n",
       "    </tr>\n",
       "    <tr>\n",
       "      <th>25%</th>\n",
       "      <td>0.300000</td>\n",
       "      <td>0.940000</td>\n",
       "      <td>0.000000</td>\n",
       "    </tr>\n",
       "    <tr>\n",
       "      <th>50%</th>\n",
       "      <td>0.300000</td>\n",
       "      <td>2.360000</td>\n",
       "      <td>0.558000</td>\n",
       "    </tr>\n",
       "    <tr>\n",
       "      <th>75%</th>\n",
       "      <td>0.500000</td>\n",
       "      <td>5.682000</td>\n",
       "      <td>2.870000</td>\n",
       "    </tr>\n",
       "    <tr>\n",
       "      <th>max</th>\n",
       "      <td>2.000000</td>\n",
       "      <td>246.000000</td>\n",
       "      <td>246.000000</td>\n",
       "    </tr>\n",
       "  </tbody>\n",
       "</table>\n",
       "</div>"
      ],
      "text/plain": [
       "                 MRL  AnalyticalResultValue(µg/L)  CalculatedResultValue(µg/L)\n",
       "count  571214.000000                326057.000000                571214.000000\n",
       "mean        0.711077                     4.856141                     2.771954\n",
       "std         0.695119                     6.908353                     5.746263\n",
       "min         0.200000                     0.200000                     0.000000\n",
       "25%         0.300000                     0.940000                     0.000000\n",
       "50%         0.300000                     2.360000                     0.558000\n",
       "75%         0.500000                     5.682000                     2.870000\n",
       "max         2.000000                   246.000000                   246.000000"
      ]
     },
     "execution_count": 10,
     "metadata": {},
     "output_type": "execute_result"
    }
   ],
   "source": [
    "# Set value for non-detects based on user input (see top of notebook for that value)\n",
    "df_ocr[\"CalculatedResultValue(µg/L)\"] = df_ocr.apply(\n",
    "    lambda x:  x[\"MRL\"]*value_belowMRL if x[\"AnalyticalResultsSign\"] == '<' else x[\"AnalyticalResultValue(µg/L)\"], axis=1)\n",
    "df_ocr.describe()\n"
   ]
  },
  {
   "cell_type": "code",
   "execution_count": 11,
   "metadata": {},
   "outputs": [],
   "source": [
    "# Export HAA species dataset (all files combined and non-detect assumption applied)\n",
    "df_ocr.to_csv(out_ocr_path, index=False)"
   ]
  },
  {
   "cell_type": "markdown",
   "metadata": {},
   "source": [
    "### Calculate group-level occurrence and BSF\n",
    "- EPA regulatory groups: HAA5, HAA6Br, and HAA9\n",
    "- Halogen-based groups: mHAA, dHAA, and tHAA"
   ]
  },
  {
   "cell_type": "code",
   "execution_count": 12,
   "metadata": {},
   "outputs": [],
   "source": [
    "# Join HAA fact and dimension table\n",
    "df_ocr = df_ocr.drop(columns=['Abbreviation'])  # avoid duplication of Abbrevation column\n",
    "df_haa = pd.merge(left=df_ocr, right=df_dim, on='Contaminant')"
   ]
  },
  {
   "cell_type": "code",
   "execution_count": 13,
   "metadata": {},
   "outputs": [],
   "source": [
    "# Remove mHAAs from analysis?\n",
    "if exclude_mHAAs == True:\n",
    "    df_haa = df_haa[~df_haa['Contaminant'].isin(['monobromoacetic acid', 'monochloroacetic acid'])]"
   ]
  },
  {
   "cell_type": "code",
   "execution_count": 14,
   "metadata": {},
   "outputs": [],
   "source": [
    "# Calculate molar concentration for each compound: \n",
    "df_haa['MolarConc(mol/L)'] = df_haa.apply(\n",
    "    lambda x: x['CalculatedResultValue(µg/L)'] / (x['MolecularWeight(g/mol)'] * 10**6), axis=1)"
   ]
  },
  {
   "cell_type": "code",
   "execution_count": 15,
   "metadata": {},
   "outputs": [],
   "source": [
    "# Calculate Calculated Additive Toxicity (CAT) for each compound: \n",
    "# - Cytotoxicity Index (CTI) = 1/LC50 * 1000\n",
    "# - HAA9 CAT = Sum of each HAA9 ([DBP] * CTI), where [DBP] is the molar concentration of a DBP\n",
    "# required columns: CalculatedResultValue(µg/L), MolecularWeight(g/mol), 1/LC50(L/mol)\n",
    "df_haa['CAT'] = df_haa.apply(lambda x: x['MolarConc(mol/L)'] * x['1/LC50(L/mol)'] * 10**3, axis=1)"
   ]
  },
  {
   "cell_type": "code",
   "execution_count": 16,
   "metadata": {},
   "outputs": [],
   "source": [
    "# Export species with molar concentration and CAT included\n",
    "# df_haa[[\"PWSID\", \"FacilityID\", \"SamplePointID\", \"SampleEventCode\", 'Abbreviation', 'CalculatedResultValue(µg/L)', 'MolarConc(mol/L)', 'CAT']].to_csv(\"out_ocrplus_path\", index=False)\n",
    "df_haa.to_csv(out_ocrplus_path, index=False)"
   ]
  },
  {
   "cell_type": "markdown",
   "metadata": {},
   "source": [
    "#### Calculate halogen-based groupings: mHAA, dHAA, and tHAA"
   ]
  },
  {
   "cell_type": "code",
   "execution_count": 17,
   "metadata": {},
   "outputs": [],
   "source": [
    "df_hal_grp = df_haa.groupby([\"PWSID\", \"FacilityID\", \"SamplePointID\", \"SampleEventCode\", \"Grp_HAA_Halogen\"], \n",
    "                        as_index=False).agg({'CalculatedResultValue(µg/L)':'sum', 'CAT':'sum'}).rename(columns={'Grp_HAA_Halogen':'Group'})\n"
   ]
  },
  {
   "cell_type": "code",
   "execution_count": 18,
   "metadata": {},
   "outputs": [
    {
     "data": {
      "text/html": [
       "<div>\n",
       "<style scoped>\n",
       "    .dataframe tbody tr th:only-of-type {\n",
       "        vertical-align: middle;\n",
       "    }\n",
       "\n",
       "    .dataframe tbody tr th {\n",
       "        vertical-align: top;\n",
       "    }\n",
       "\n",
       "    .dataframe thead th {\n",
       "        text-align: right;\n",
       "    }\n",
       "</style>\n",
       "<table border=\"1\" class=\"dataframe\">\n",
       "  <thead>\n",
       "    <tr style=\"text-align: right;\">\n",
       "      <th></th>\n",
       "      <th>CalculatedResultValue(µg/L)</th>\n",
       "      <th>CAT</th>\n",
       "    </tr>\n",
       "  </thead>\n",
       "  <tbody>\n",
       "    <tr>\n",
       "      <th>count</th>\n",
       "      <td>190485.000000</td>\n",
       "      <td>190485.000000</td>\n",
       "    </tr>\n",
       "    <tr>\n",
       "      <th>mean</th>\n",
       "      <td>8.312355</td>\n",
       "      <td>0.069710</td>\n",
       "    </tr>\n",
       "    <tr>\n",
       "      <th>std</th>\n",
       "      <td>10.799407</td>\n",
       "      <td>0.245625</td>\n",
       "    </tr>\n",
       "    <tr>\n",
       "      <th>min</th>\n",
       "      <td>0.000000</td>\n",
       "      <td>0.000000</td>\n",
       "    </tr>\n",
       "    <tr>\n",
       "      <th>25%</th>\n",
       "      <td>0.000000</td>\n",
       "      <td>0.000000</td>\n",
       "    </tr>\n",
       "    <tr>\n",
       "      <th>50%</th>\n",
       "      <td>4.579000</td>\n",
       "      <td>0.022693</td>\n",
       "    </tr>\n",
       "    <tr>\n",
       "      <th>75%</th>\n",
       "      <td>13.550000</td>\n",
       "      <td>0.047919</td>\n",
       "    </tr>\n",
       "    <tr>\n",
       "      <th>max</th>\n",
       "      <td>349.600000</td>\n",
       "      <td>26.264760</td>\n",
       "    </tr>\n",
       "  </tbody>\n",
       "</table>\n",
       "</div>"
      ],
      "text/plain": [
       "       CalculatedResultValue(µg/L)            CAT\n",
       "count                190485.000000  190485.000000\n",
       "mean                      8.312355       0.069710\n",
       "std                      10.799407       0.245625\n",
       "min                       0.000000       0.000000\n",
       "25%                       0.000000       0.000000\n",
       "50%                       4.579000       0.022693\n",
       "75%                      13.550000       0.047919\n",
       "max                     349.600000      26.264760"
      ]
     },
     "execution_count": 18,
     "metadata": {},
     "output_type": "execute_result"
    }
   ],
   "source": [
    "df_hal_grp.describe()"
   ]
  },
  {
   "cell_type": "code",
   "execution_count": 19,
   "metadata": {},
   "outputs": [],
   "source": [
    "# Prepare for visualizations\n",
    "hal_grp_order = ['mHAA', 'dHAA', 'tHAA']"
   ]
  },
  {
   "cell_type": "code",
   "execution_count": 20,
   "metadata": {},
   "outputs": [
    {
     "name": "stderr",
     "output_type": "stream",
     "text": [
      "c:\\ProgramData\\Anaconda3\\lib\\site-packages\\pandas\\core\\arraylike.py:397: RuntimeWarning: divide by zero encountered in log10\n",
      "  result = getattr(ufunc, method)(*inputs, **kwargs)\n"
     ]
    },
    {
     "data": {
      "text/plain": [
       "<AxesSubplot:xlabel='CAT', ylabel='Proportion'>"
      ]
     },
     "execution_count": 20,
     "metadata": {},
     "output_type": "execute_result"
    },
    {
     "data": {
      "image/png": "[encoded data removed]",
      "text/plain": [
       "<Figure size 432x288 with 1 Axes>"
      ]
     },
     "metadata": {
      "needs_background": "light"
     },
     "output_type": "display_data"
    }
   ],
   "source": [
    "# Visualize mass concentration results\n",
    "sns.ecdfplot(data=df_hal_grp, x=\"CAT\", hue=\"Group\", hue_order=hal_grp_order, log_scale=True)"
   ]
  },
  {
   "cell_type": "code",
   "execution_count": 21,
   "metadata": {},
   "outputs": [
    {
     "name": "stderr",
     "output_type": "stream",
     "text": [
      "c:\\ProgramData\\Anaconda3\\lib\\site-packages\\pandas\\core\\arraylike.py:397: RuntimeWarning: divide by zero encountered in log10\n",
      "  result = getattr(ufunc, method)(*inputs, **kwargs)\n"
     ]
    },
    {
     "data": {
      "text/plain": [
       "Text(1.6, 0.4, 'MCAA MRL')"
      ]
     },
     "execution_count": 21,
     "metadata": {},
     "output_type": "execute_result"
    },
    {
     "data": {
      "image/png": "[encoded data removed]",
      "text/plain": [
       "<Figure size 432x288 with 1 Axes>"
      ]
     },
     "metadata": {
      "needs_background": "light"
     },
     "output_type": "display_data"
    }
   ],
   "source": [
    "# Visualize mass concentration results\n",
    "g = sns.ecdfplot(data=df_hal_grp, x=\"CalculatedResultValue(µg/L)\", hue=\"Group\", hue_order=hal_grp_order, log_scale=True)\n",
    "g.set(xlabel='Concentration (µg/L)')\n",
    "# Label MRLs\n",
    "plt.axvline(x=MRL_MBAA, color='black', linewidth=0.5)\n",
    "plt.text(x=MRL_MBAA - 0.06, y=0.4, s='MBAA MRL', rotation=90)\n",
    "\n",
    "plt.axvline(x=MRL_MCAA, color='black', linewidth=0.5)\n",
    "plt.text(x=MRL_MCAA - 0.4, y=0.4, s='MCAA MRL', rotation=90)"
   ]
  },
  {
   "cell_type": "markdown",
   "metadata": {},
   "source": [
    "#### Calculate EPA's regulatory groupings: HAA5, HAA6Br, HAA9"
   ]
  },
  {
   "cell_type": "code",
   "execution_count": 22,
   "metadata": {},
   "outputs": [],
   "source": [
    "# HAA5\n",
    "df_haa5 = df_haa[df_haa['HAA5'] == True]\n",
    "df_haa5 = df_haa5.groupby([\"PWSID\", \"FacilityID\", \"SamplePointID\", \"SampleEventCode\"], \n",
    "                        as_index=False).agg({'CalculatedResultValue(µg/L)':'sum', 'MolarConc(mol/L)':'sum', 'CAT':'sum'})\n",
    "df_haa5['Grp_HAA_EPA'] = 'HAA5'\n"
   ]
  },
  {
   "cell_type": "code",
   "execution_count": 23,
   "metadata": {},
   "outputs": [],
   "source": [
    "# HAA6Br\n",
    "df_haa6br = df_haa[df_haa['HAA6Br'] == True]\n",
    "df_haa6br = df_haa6br.groupby([\"PWSID\", \"FacilityID\", \"SamplePointID\", \"SampleEventCode\"], \n",
    "                        as_index=False).agg({'CalculatedResultValue(µg/L)':'sum', 'CAT':'sum'})\n",
    "df_haa6br['Grp_HAA_EPA'] = 'HAA6Br'\n"
   ]
  },
  {
   "cell_type": "code",
   "execution_count": 24,
   "metadata": {},
   "outputs": [],
   "source": [
    "# HAA9\n",
    "df_haa9 = df_haa[df_haa['HAA9'] == True]\n",
    "df_haa9 = df_haa9.groupby([\"PWSID\", \"FacilityID\", \"SamplePointID\", \"SampleEventCode\"], \n",
    "                        as_index=False).agg({'CalculatedResultValue(µg/L)':'sum', 'CAT':'sum'})\n",
    "df_haa9['Grp_HAA_EPA'] = 'HAA9'\n"
   ]
  },
  {
   "cell_type": "code",
   "execution_count": 25,
   "metadata": {},
   "outputs": [],
   "source": [
    "# Combine all of the groups\n",
    "df_epa_grp = pd.concat([df_haa5, df_haa6br, df_haa9]).reset_index().drop(columns='index').rename(columns={'Grp_HAA_EPA':'Group'})"
   ]
  },
  {
   "cell_type": "code",
   "execution_count": 26,
   "metadata": {},
   "outputs": [],
   "source": [
    "df_epa_grp[df_epa_grp['Group'] == 'HAA9'].to_csv(\"HAA9-grp_CAT_all-sampling-locs_UMCR4-FOIA.csv\", index=False)"
   ]
  },
  {
   "cell_type": "code",
   "execution_count": 27,
   "metadata": {},
   "outputs": [],
   "source": [
    "# Prepare for visualizations\n",
    "# epa_grp_order = ['HAA5', 'HAA6Br', 'HAA9']\n",
    "epa_grp_order = ['HAA5', 'HAA9']"
   ]
  },
  {
   "cell_type": "code",
   "execution_count": 28,
   "metadata": {},
   "outputs": [
    {
     "name": "stderr",
     "output_type": "stream",
     "text": [
      "c:\\ProgramData\\Anaconda3\\lib\\site-packages\\pandas\\core\\arraylike.py:397: RuntimeWarning: divide by zero encountered in log10\n",
      "  result = getattr(ufunc, method)(*inputs, **kwargs)\n"
     ]
    },
    {
     "data": {
      "text/plain": [
       "<AxesSubplot:xlabel='CAT', ylabel='Proportion'>"
      ]
     },
     "execution_count": 28,
     "metadata": {},
     "output_type": "execute_result"
    },
    {
     "data": {
      "image/png": "[encoded data removed]",
      "text/plain": [
       "<Figure size 432x288 with 1 Axes>"
      ]
     },
     "metadata": {
      "needs_background": "light"
     },
     "output_type": "display_data"
    }
   ],
   "source": [
    "# Visualize CTI\n",
    "sns.ecdfplot(data=df_epa_grp, x=\"CAT\", hue=\"Group\", hue_order=epa_grp_order, log_scale=True)"
   ]
  },
  {
   "cell_type": "code",
   "execution_count": 29,
   "metadata": {},
   "outputs": [
    {
     "name": "stderr",
     "output_type": "stream",
     "text": [
      "c:\\ProgramData\\Anaconda3\\lib\\site-packages\\pandas\\core\\arraylike.py:397: RuntimeWarning: divide by zero encountered in log10\n",
      "  result = getattr(ufunc, method)(*inputs, **kwargs)\n"
     ]
    },
    {
     "data": {
      "text/plain": [
       "Text(65, 0.4, 'HAA5 MCL: 60 µg/L')"
      ]
     },
     "execution_count": 29,
     "metadata": {},
     "output_type": "execute_result"
    },
    {
     "data": {
      "image/png": "[encoded data removed]",
      "text/plain": [
       "<Figure size 432x288 with 1 Axes>"
      ]
     },
     "metadata": {
      "needs_background": "light"
     },
     "output_type": "display_data"
    }
   ],
   "source": [
    "# Visualize mass concentration result\n",
    "g = sns.ecdfplot(data=df_epa_grp[df_epa_grp['Group'].isin(['HAA5', 'HAA9'])], x=\"CalculatedResultValue(µg/L)\", hue=\"Group\", hue_order=epa_grp_order, log_scale=True)\n",
    "g.set(xlabel='Concentration (µg/L)')\n",
    "# Label MCLs\n",
    "plt.axvline(x=HAA5_MCL, color='black', linewidth=0.5)\n",
    "plt.text(x=HAA5_MCL + 5, y=0.4, s='HAA5 MCL: 60 µg/L', rotation=90)"
   ]
  },
  {
   "cell_type": "code",
   "execution_count": 30,
   "metadata": {},
   "outputs": [
    {
     "data": {
      "text/plain": [
       "(0.95, 1.0)"
      ]
     },
     "execution_count": 30,
     "metadata": {},
     "output_type": "execute_result"
    },
    {
     "data": {
      "image/png": "[encoded data removed]",
      "text/plain": [
       "<Figure size 432x288 with 1 Axes>"
      ]
     },
     "metadata": {
      "needs_background": "light"
     },
     "output_type": "display_data"
    }
   ],
   "source": [
    "# Visualize mass concentration result\n",
    "g = sns.ecdfplot(data=df_epa_grp[df_epa_grp['Group'].isin(['HAA5', 'HAA9'])], x=\"CalculatedResultValue(µg/L)\", hue=\"Group\", hue_order=epa_grp_order, log_scale=False)\n",
    "g.set(xlabel='Concentration (µg/L)')\n",
    "g.set_xlim([60, 200])\n",
    "g.set_ylim([0.95, 1])\n",
    "# Label MCLs\n",
    "# plt.axvline(x=HAA5_MCL, color='black', linewidth=0.5)\n",
    "# plt.text(x=HAA5_MCL + 5, y=0.4, s='HAA5 MCL: 60 µg/L', rotation=90)"
   ]
  },
  {
   "cell_type": "markdown",
   "metadata": {},
   "source": [
    "### Calculate Bromine Substituion Factor (BSF) for mHAA, dHAA, and tHAA"
   ]
  },
  {
   "attachments": {},
   "cell_type": "markdown",
   "metadata": {},
   "source": [
    "Bromine substitution factor (BSF) for THMs:\n",
    "\n",
    "<img src=\"../../img/bsf-thm_hua-and-reckhow-2012_wat-res.png\" alt=\"Bromine subtitution factor equation for THMs\" width=\"400\"/>\n",
    "\n",
    "In this section, a similar equation is applied for HAAs for each group. For example:\n",
    "- mHAA - BSF : (1 * MBAA) / 1 * (MCAA + MBAA) \n",
    "- dHAA - BSF : (1 * BCAA + 2 * DBAA) / 2 * (DCAA + BCAA + DBAA)\n",
    "- tHAA - BSF : (1 * BDCAA + 2 * DBCAA + 3 * TBAA) / 3 * (TCAA + BDCAA + DBCAA + TBAA)"
   ]
  },
  {
   "cell_type": "code",
   "execution_count": 31,
   "metadata": {},
   "outputs": [
    {
     "data": {
      "text/html": [
       "<div>\n",
       "<style scoped>\n",
       "    .dataframe tbody tr th:only-of-type {\n",
       "        vertical-align: middle;\n",
       "    }\n",
       "\n",
       "    .dataframe tbody tr th {\n",
       "        vertical-align: top;\n",
       "    }\n",
       "\n",
       "    .dataframe thead th {\n",
       "        text-align: right;\n",
       "    }\n",
       "</style>\n",
       "<table border=\"1\" class=\"dataframe\">\n",
       "  <thead>\n",
       "    <tr style=\"text-align: right;\">\n",
       "      <th></th>\n",
       "      <th>PWSID</th>\n",
       "      <th>FacilityID</th>\n",
       "      <th>SampleEventCode</th>\n",
       "      <th>Abbreviation</th>\n",
       "      <th>SamplePointID</th>\n",
       "      <th>MolarConc(mol/L)</th>\n",
       "      <th>Group</th>\n",
       "      <th>Bromine_Count</th>\n",
       "    </tr>\n",
       "  </thead>\n",
       "  <tbody>\n",
       "    <tr>\n",
       "      <th>448245</th>\n",
       "      <td>CA0410006</td>\n",
       "      <td>91803</td>\n",
       "      <td>SEH3</td>\n",
       "      <td>TBAA</td>\n",
       "      <td>0410006013</td>\n",
       "      <td>0.0</td>\n",
       "      <td>tHAA</td>\n",
       "      <td>3</td>\n",
       "    </tr>\n",
       "    <tr>\n",
       "      <th>457134</th>\n",
       "      <td>CO0143755</td>\n",
       "      <td>99001</td>\n",
       "      <td>SEH2</td>\n",
       "      <td>TBAA</td>\n",
       "      <td>DBP002</td>\n",
       "      <td>0.0</td>\n",
       "      <td>tHAA</td>\n",
       "      <td>3</td>\n",
       "    </tr>\n",
       "    <tr>\n",
       "      <th>457135</th>\n",
       "      <td>CO0143755</td>\n",
       "      <td>99001</td>\n",
       "      <td>SEH3</td>\n",
       "      <td>TBAA</td>\n",
       "      <td>DBP002</td>\n",
       "      <td>0.0</td>\n",
       "      <td>tHAA</td>\n",
       "      <td>3</td>\n",
       "    </tr>\n",
       "    <tr>\n",
       "      <th>457136</th>\n",
       "      <td>CO0144005</td>\n",
       "      <td>99001</td>\n",
       "      <td>SEH1</td>\n",
       "      <td>TBAA</td>\n",
       "      <td>DBP001</td>\n",
       "      <td>0.0</td>\n",
       "      <td>tHAA</td>\n",
       "      <td>3</td>\n",
       "    </tr>\n",
       "    <tr>\n",
       "      <th>457137</th>\n",
       "      <td>CO0144005</td>\n",
       "      <td>99001</td>\n",
       "      <td>SEH2</td>\n",
       "      <td>TBAA</td>\n",
       "      <td>DBP001</td>\n",
       "      <td>0.0</td>\n",
       "      <td>tHAA</td>\n",
       "      <td>3</td>\n",
       "    </tr>\n",
       "    <tr>\n",
       "      <th>457138</th>\n",
       "      <td>CO0144005</td>\n",
       "      <td>99001</td>\n",
       "      <td>SEH3</td>\n",
       "      <td>TBAA</td>\n",
       "      <td>DBP001</td>\n",
       "      <td>0.0</td>\n",
       "      <td>tHAA</td>\n",
       "      <td>3</td>\n",
       "    </tr>\n",
       "    <tr>\n",
       "      <th>457139</th>\n",
       "      <td>CO0144005</td>\n",
       "      <td>99001</td>\n",
       "      <td>SEH4</td>\n",
       "      <td>TBAA</td>\n",
       "      <td>DBP001</td>\n",
       "      <td>0.0</td>\n",
       "      <td>tHAA</td>\n",
       "      <td>3</td>\n",
       "    </tr>\n",
       "    <tr>\n",
       "      <th>457140</th>\n",
       "      <td>CO0144005</td>\n",
       "      <td>99001</td>\n",
       "      <td>SEH1</td>\n",
       "      <td>TBAA</td>\n",
       "      <td>DBP002</td>\n",
       "      <td>0.0</td>\n",
       "      <td>tHAA</td>\n",
       "      <td>3</td>\n",
       "    </tr>\n",
       "    <tr>\n",
       "      <th>457141</th>\n",
       "      <td>CO0144005</td>\n",
       "      <td>99001</td>\n",
       "      <td>SEH2</td>\n",
       "      <td>TBAA</td>\n",
       "      <td>DBP002</td>\n",
       "      <td>0.0</td>\n",
       "      <td>tHAA</td>\n",
       "      <td>3</td>\n",
       "    </tr>\n",
       "    <tr>\n",
       "      <th>457142</th>\n",
       "      <td>CO0144005</td>\n",
       "      <td>99001</td>\n",
       "      <td>SEH3</td>\n",
       "      <td>TBAA</td>\n",
       "      <td>DBP002</td>\n",
       "      <td>0.0</td>\n",
       "      <td>tHAA</td>\n",
       "      <td>3</td>\n",
       "    </tr>\n",
       "  </tbody>\n",
       "</table>\n",
       "</div>"
      ],
      "text/plain": [
       "            PWSID FacilityID SampleEventCode Abbreviation SamplePointID  \\\n",
       "448245  CA0410006      91803            SEH3         TBAA    0410006013   \n",
       "457134  CO0143755      99001            SEH2         TBAA        DBP002   \n",
       "457135  CO0143755      99001            SEH3         TBAA        DBP002   \n",
       "457136  CO0144005      99001            SEH1         TBAA        DBP001   \n",
       "457137  CO0144005      99001            SEH2         TBAA        DBP001   \n",
       "457138  CO0144005      99001            SEH3         TBAA        DBP001   \n",
       "457139  CO0144005      99001            SEH4         TBAA        DBP001   \n",
       "457140  CO0144005      99001            SEH1         TBAA        DBP002   \n",
       "457141  CO0144005      99001            SEH2         TBAA        DBP002   \n",
       "457142  CO0144005      99001            SEH3         TBAA        DBP002   \n",
       "\n",
       "        MolarConc(mol/L) Group  Bromine_Count  \n",
       "448245               0.0  tHAA              3  \n",
       "457134               0.0  tHAA              3  \n",
       "457135               0.0  tHAA              3  \n",
       "457136               0.0  tHAA              3  \n",
       "457137               0.0  tHAA              3  \n",
       "457138               0.0  tHAA              3  \n",
       "457139               0.0  tHAA              3  \n",
       "457140               0.0  tHAA              3  \n",
       "457141               0.0  tHAA              3  \n",
       "457142               0.0  tHAA              3  "
      ]
     },
     "execution_count": 31,
     "metadata": {},
     "output_type": "execute_result"
    }
   ],
   "source": [
    "df_bsf = df_haa[['PWSID', 'FacilityID', 'SampleEventCode', 'Abbreviation', 'SamplePointID', 'MolarConc(mol/L)', 'Grp_HAA_Halogen', 'Bromine_Count']].rename(columns={'Grp_HAA_Halogen':'Group'})\n",
    "df_bsf.sort_values('MolarConc(mol/L)').head(10)"
   ]
  },
  {
   "cell_type": "code",
   "execution_count": 32,
   "metadata": {},
   "outputs": [],
   "source": [
    "df_bsf['BSF_Demoninator_Scalar'] = df_bsf.apply(lambda x: 1 if x['Group'] == \"mHAA\" else (2 if x['Group'] == \"dHAA\" else 3), axis=1)\n",
    "df_bsf['BSF_Demoninator'] = df_bsf['MolarConc(mol/L)'] * df_bsf['BSF_Demoninator_Scalar']\n",
    "df_bsf['BSF_Numerator'] = df_bsf['MolarConc(mol/L)'] * df_bsf['Bromine_Count']"
   ]
  },
  {
   "cell_type": "code",
   "execution_count": 33,
   "metadata": {},
   "outputs": [],
   "source": [
    "df_hal_grp_bsf = df_bsf.groupby([\"PWSID\", \"FacilityID\", \"SamplePointID\", \"SampleEventCode\", \"Group\"], \n",
    "                        as_index=False).agg({'BSF_Demoninator':'sum', 'BSF_Numerator':'sum'})"
   ]
  },
  {
   "cell_type": "code",
   "execution_count": 34,
   "metadata": {},
   "outputs": [
    {
     "data": {
      "text/html": [
       "<div>\n",
       "<style scoped>\n",
       "    .dataframe tbody tr th:only-of-type {\n",
       "        vertical-align: middle;\n",
       "    }\n",
       "\n",
       "    .dataframe tbody tr th {\n",
       "        vertical-align: top;\n",
       "    }\n",
       "\n",
       "    .dataframe thead th {\n",
       "        text-align: right;\n",
       "    }\n",
       "</style>\n",
       "<table border=\"1\" class=\"dataframe\">\n",
       "  <thead>\n",
       "    <tr style=\"text-align: right;\">\n",
       "      <th></th>\n",
       "      <th>PWSID</th>\n",
       "      <th>FacilityID</th>\n",
       "      <th>SamplePointID</th>\n",
       "      <th>SampleEventCode</th>\n",
       "      <th>Group</th>\n",
       "      <th>BSF_Demoninator</th>\n",
       "      <th>BSF_Numerator</th>\n",
       "    </tr>\n",
       "  </thead>\n",
       "  <tbody>\n",
       "    <tr>\n",
       "      <th>0</th>\n",
       "      <td>010106001</td>\n",
       "      <td>1</td>\n",
       "      <td>D12</td>\n",
       "      <td>SEH1</td>\n",
       "      <td>dHAA</td>\n",
       "      <td>1.152604e-07</td>\n",
       "      <td>9.451101e-08</td>\n",
       "    </tr>\n",
       "    <tr>\n",
       "      <th>1</th>\n",
       "      <td>010106001</td>\n",
       "      <td>1</td>\n",
       "      <td>D12</td>\n",
       "      <td>SEH1</td>\n",
       "      <td>mHAA</td>\n",
       "      <td>1.000374e-08</td>\n",
       "      <td>1.000374e-08</td>\n",
       "    </tr>\n",
       "    <tr>\n",
       "      <th>2</th>\n",
       "      <td>010106001</td>\n",
       "      <td>1</td>\n",
       "      <td>D12</td>\n",
       "      <td>SEH1</td>\n",
       "      <td>tHAA</td>\n",
       "      <td>4.552726e-08</td>\n",
       "      <td>4.140495e-08</td>\n",
       "    </tr>\n",
       "    <tr>\n",
       "      <th>3</th>\n",
       "      <td>010106001</td>\n",
       "      <td>1</td>\n",
       "      <td>D12</td>\n",
       "      <td>SEH2</td>\n",
       "      <td>dHAA</td>\n",
       "      <td>6.867300e-09</td>\n",
       "      <td>6.867300e-09</td>\n",
       "    </tr>\n",
       "    <tr>\n",
       "      <th>4</th>\n",
       "      <td>010106001</td>\n",
       "      <td>1</td>\n",
       "      <td>D12</td>\n",
       "      <td>SEH2</td>\n",
       "      <td>mHAA</td>\n",
       "      <td>0.000000e+00</td>\n",
       "      <td>0.000000e+00</td>\n",
       "    </tr>\n",
       "    <tr>\n",
       "      <th>...</th>\n",
       "      <td>...</td>\n",
       "      <td>...</td>\n",
       "      <td>...</td>\n",
       "      <td>...</td>\n",
       "      <td>...</td>\n",
       "      <td>...</td>\n",
       "      <td>...</td>\n",
       "    </tr>\n",
       "    <tr>\n",
       "      <th>190480</th>\n",
       "      <td>WY5601415</td>\n",
       "      <td>90002</td>\n",
       "      <td>DIS002</td>\n",
       "      <td>SEH3</td>\n",
       "      <td>mHAA</td>\n",
       "      <td>0.000000e+00</td>\n",
       "      <td>0.000000e+00</td>\n",
       "    </tr>\n",
       "    <tr>\n",
       "      <th>190481</th>\n",
       "      <td>WY5601415</td>\n",
       "      <td>90002</td>\n",
       "      <td>DIS002</td>\n",
       "      <td>SEH3</td>\n",
       "      <td>tHAA</td>\n",
       "      <td>1.113227e-07</td>\n",
       "      <td>2.806136e-08</td>\n",
       "    </tr>\n",
       "    <tr>\n",
       "      <th>190482</th>\n",
       "      <td>WY5601415</td>\n",
       "      <td>90002</td>\n",
       "      <td>DIS002</td>\n",
       "      <td>SEH4</td>\n",
       "      <td>dHAA</td>\n",
       "      <td>1.054794e-07</td>\n",
       "      <td>2.811785e-08</td>\n",
       "    </tr>\n",
       "    <tr>\n",
       "      <th>190483</th>\n",
       "      <td>WY5601415</td>\n",
       "      <td>90002</td>\n",
       "      <td>DIS002</td>\n",
       "      <td>SEH4</td>\n",
       "      <td>mHAA</td>\n",
       "      <td>0.000000e+00</td>\n",
       "      <td>0.000000e+00</td>\n",
       "    </tr>\n",
       "    <tr>\n",
       "      <th>190484</th>\n",
       "      <td>WY5601415</td>\n",
       "      <td>90002</td>\n",
       "      <td>DIS002</td>\n",
       "      <td>SEH4</td>\n",
       "      <td>tHAA</td>\n",
       "      <td>2.849782e-08</td>\n",
       "      <td>1.327277e-08</td>\n",
       "    </tr>\n",
       "  </tbody>\n",
       "</table>\n",
       "<p>190485 rows × 7 columns</p>\n",
       "</div>"
      ],
      "text/plain": [
       "            PWSID FacilityID SamplePointID SampleEventCode Group  \\\n",
       "0       010106001          1           D12            SEH1  dHAA   \n",
       "1       010106001          1           D12            SEH1  mHAA   \n",
       "2       010106001          1           D12            SEH1  tHAA   \n",
       "3       010106001          1           D12            SEH2  dHAA   \n",
       "4       010106001          1           D12            SEH2  mHAA   \n",
       "...           ...        ...           ...             ...   ...   \n",
       "190480  WY5601415      90002        DIS002            SEH3  mHAA   \n",
       "190481  WY5601415      90002        DIS002            SEH3  tHAA   \n",
       "190482  WY5601415      90002        DIS002            SEH4  dHAA   \n",
       "190483  WY5601415      90002        DIS002            SEH4  mHAA   \n",
       "190484  WY5601415      90002        DIS002            SEH4  tHAA   \n",
       "\n",
       "        BSF_Demoninator  BSF_Numerator  \n",
       "0          1.152604e-07   9.451101e-08  \n",
       "1          1.000374e-08   1.000374e-08  \n",
       "2          4.552726e-08   4.140495e-08  \n",
       "3          6.867300e-09   6.867300e-09  \n",
       "4          0.000000e+00   0.000000e+00  \n",
       "...                 ...            ...  \n",
       "190480     0.000000e+00   0.000000e+00  \n",
       "190481     1.113227e-07   2.806136e-08  \n",
       "190482     1.054794e-07   2.811785e-08  \n",
       "190483     0.000000e+00   0.000000e+00  \n",
       "190484     2.849782e-08   1.327277e-08  \n",
       "\n",
       "[190485 rows x 7 columns]"
      ]
     },
     "execution_count": 34,
     "metadata": {},
     "output_type": "execute_result"
    }
   ],
   "source": [
    "df_hal_grp_bsf"
   ]
  },
  {
   "cell_type": "code",
   "execution_count": 35,
   "metadata": {},
   "outputs": [],
   "source": [
    "# Calculate BSF\n",
    "df_hal_grp_bsf['BSF'] = df_hal_grp_bsf['BSF_Numerator'].divide(df_hal_grp_bsf['BSF_Demoninator'])"
   ]
  },
  {
   "cell_type": "code",
   "execution_count": 36,
   "metadata": {},
   "outputs": [
    {
     "data": {
      "text/html": [
       "<div>\n",
       "<style scoped>\n",
       "    .dataframe tbody tr th:only-of-type {\n",
       "        vertical-align: middle;\n",
       "    }\n",
       "\n",
       "    .dataframe tbody tr th {\n",
       "        vertical-align: top;\n",
       "    }\n",
       "\n",
       "    .dataframe thead th {\n",
       "        text-align: right;\n",
       "    }\n",
       "</style>\n",
       "<table border=\"1\" class=\"dataframe\">\n",
       "  <thead>\n",
       "    <tr style=\"text-align: right;\">\n",
       "      <th></th>\n",
       "      <th>BSF_Demoninator</th>\n",
       "      <th>BSF_Numerator</th>\n",
       "      <th>BSF</th>\n",
       "    </tr>\n",
       "  </thead>\n",
       "  <tbody>\n",
       "    <tr>\n",
       "      <th>count</th>\n",
       "      <td>1.904850e+05</td>\n",
       "      <td>1.904850e+05</td>\n",
       "      <td>138096.000000</td>\n",
       "    </tr>\n",
       "    <tr>\n",
       "      <th>mean</th>\n",
       "      <td>1.275139e-07</td>\n",
       "      <td>1.524916e-08</td>\n",
       "      <td>0.247417</td>\n",
       "    </tr>\n",
       "    <tr>\n",
       "      <th>std</th>\n",
       "      <td>1.715526e-07</td>\n",
       "      <td>2.798291e-08</td>\n",
       "      <td>0.297717</td>\n",
       "    </tr>\n",
       "    <tr>\n",
       "      <th>min</th>\n",
       "      <td>0.000000e+00</td>\n",
       "      <td>0.000000e+00</td>\n",
       "      <td>0.000000</td>\n",
       "    </tr>\n",
       "    <tr>\n",
       "      <th>25%</th>\n",
       "      <td>0.000000e+00</td>\n",
       "      <td>0.000000e+00</td>\n",
       "      <td>0.048512</td>\n",
       "    </tr>\n",
       "    <tr>\n",
       "      <th>50%</th>\n",
       "      <td>6.359744e-08</td>\n",
       "      <td>6.920814e-09</td>\n",
       "      <td>0.121807</td>\n",
       "    </tr>\n",
       "    <tr>\n",
       "      <th>75%</th>\n",
       "      <td>2.067339e-07</td>\n",
       "      <td>2.062969e-08</td>\n",
       "      <td>0.306480</td>\n",
       "    </tr>\n",
       "    <tr>\n",
       "      <th>max</th>\n",
       "      <td>4.989904e-06</td>\n",
       "      <td>1.896305e-06</td>\n",
       "      <td>1.000000</td>\n",
       "    </tr>\n",
       "  </tbody>\n",
       "</table>\n",
       "</div>"
      ],
      "text/plain": [
       "       BSF_Demoninator  BSF_Numerator            BSF\n",
       "count     1.904850e+05   1.904850e+05  138096.000000\n",
       "mean      1.275139e-07   1.524916e-08       0.247417\n",
       "std       1.715526e-07   2.798291e-08       0.297717\n",
       "min       0.000000e+00   0.000000e+00       0.000000\n",
       "25%       0.000000e+00   0.000000e+00       0.048512\n",
       "50%       6.359744e-08   6.920814e-09       0.121807\n",
       "75%       2.067339e-07   2.062969e-08       0.306480\n",
       "max       4.989904e-06   1.896305e-06       1.000000"
      ]
     },
     "execution_count": 36,
     "metadata": {},
     "output_type": "execute_result"
    }
   ],
   "source": [
    "df_hal_grp_bsf.describe()"
   ]
  },
  {
   "cell_type": "code",
   "execution_count": 37,
   "metadata": {},
   "outputs": [
    {
     "data": {
      "text/plain": [
       "[Text(0.5, 0, 'Bromine Substitution Factor (BSF)')]"
      ]
     },
     "execution_count": 37,
     "metadata": {},
     "output_type": "execute_result"
    },
    {
     "data": {
      "image/png": "[encoded data removed]",
      "text/plain": [
       "<Figure size 432x288 with 1 Axes>"
      ]
     },
     "metadata": {
      "needs_background": "light"
     },
     "output_type": "display_data"
    }
   ],
   "source": [
    "# Visualize mass concentration results\n",
    "g = sns.ecdfplot(data=df_hal_grp_bsf, x=\"BSF\", hue=\"Group\", hue_order=hal_grp_order, log_scale=False)\n",
    "g.set(xlabel='Bromine Substitution Factor (BSF)')"
   ]
  },
  {
   "cell_type": "code",
   "execution_count": 38,
   "metadata": {},
   "outputs": [
    {
     "data": {
      "image/png": "[encoded data removed]",
      "text/plain": [
       "<Figure size 432x288 with 1 Axes>"
      ]
     },
     "metadata": {
      "needs_background": "light"
     },
     "output_type": "display_data"
    }
   ],
   "source": [
    "# Visualize BSF results (remove 0 values for log-transformation)\n",
    "# Note: BSF values = 1 were removed from the record because that is an artifact of non-detects (mostly for mHAA)\n",
    "df_hal_grp_bsf_notzero = df_hal_grp_bsf[df_hal_grp_bsf['BSF'] > 0]  # remove values of 0\n",
    "df_hal_grp_bsf_notzero = df_hal_grp_bsf_notzero[df_hal_grp_bsf_notzero['BSF'] != 1]  # remove values of 0\n",
    "g = sns.histplot(data=df_hal_grp_bsf_notzero, x=\"BSF\", hue=\"Group\", hue_order=hal_grp_order, element=\"step\")\n",
    "sns.move_legend(g, \"upper left\")"
   ]
  },
  {
   "cell_type": "code",
   "execution_count": 39,
   "metadata": {},
   "outputs": [
    {
     "data": {
      "text/html": [
       "<div>\n",
       "<style scoped>\n",
       "    .dataframe tbody tr th:only-of-type {\n",
       "        vertical-align: middle;\n",
       "    }\n",
       "\n",
       "    .dataframe tbody tr th {\n",
       "        vertical-align: top;\n",
       "    }\n",
       "\n",
       "    .dataframe thead th {\n",
       "        text-align: right;\n",
       "    }\n",
       "</style>\n",
       "<table border=\"1\" class=\"dataframe\">\n",
       "  <thead>\n",
       "    <tr style=\"text-align: right;\">\n",
       "      <th></th>\n",
       "      <th>PWSID</th>\n",
       "      <th>FacilityID</th>\n",
       "      <th>SamplePointID</th>\n",
       "      <th>SampleEventCode</th>\n",
       "      <th>Group</th>\n",
       "      <th>BSF_Demoninator</th>\n",
       "      <th>BSF_Numerator</th>\n",
       "      <th>BSF</th>\n",
       "    </tr>\n",
       "  </thead>\n",
       "  <tbody>\n",
       "    <tr>\n",
       "      <th>0</th>\n",
       "      <td>010106001</td>\n",
       "      <td>1</td>\n",
       "      <td>D12</td>\n",
       "      <td>SEH1</td>\n",
       "      <td>dHAA</td>\n",
       "      <td>1.152604e-07</td>\n",
       "      <td>9.451101e-08</td>\n",
       "      <td>0.819978</td>\n",
       "    </tr>\n",
       "    <tr>\n",
       "      <th>1</th>\n",
       "      <td>010106001</td>\n",
       "      <td>1</td>\n",
       "      <td>D12</td>\n",
       "      <td>SEH1</td>\n",
       "      <td>mHAA</td>\n",
       "      <td>1.000374e-08</td>\n",
       "      <td>1.000374e-08</td>\n",
       "      <td>1.000000</td>\n",
       "    </tr>\n",
       "    <tr>\n",
       "      <th>2</th>\n",
       "      <td>010106001</td>\n",
       "      <td>1</td>\n",
       "      <td>D12</td>\n",
       "      <td>SEH1</td>\n",
       "      <td>tHAA</td>\n",
       "      <td>4.552726e-08</td>\n",
       "      <td>4.140495e-08</td>\n",
       "      <td>0.909454</td>\n",
       "    </tr>\n",
       "    <tr>\n",
       "      <th>3</th>\n",
       "      <td>010106001</td>\n",
       "      <td>1</td>\n",
       "      <td>D12</td>\n",
       "      <td>SEH2</td>\n",
       "      <td>dHAA</td>\n",
       "      <td>6.867300e-09</td>\n",
       "      <td>6.867300e-09</td>\n",
       "      <td>1.000000</td>\n",
       "    </tr>\n",
       "    <tr>\n",
       "      <th>4</th>\n",
       "      <td>010106001</td>\n",
       "      <td>1</td>\n",
       "      <td>D12</td>\n",
       "      <td>SEH2</td>\n",
       "      <td>mHAA</td>\n",
       "      <td>0.000000e+00</td>\n",
       "      <td>0.000000e+00</td>\n",
       "      <td>NaN</td>\n",
       "    </tr>\n",
       "  </tbody>\n",
       "</table>\n",
       "</div>"
      ],
      "text/plain": [
       "       PWSID FacilityID SamplePointID SampleEventCode Group  BSF_Demoninator  \\\n",
       "0  010106001          1           D12            SEH1  dHAA     1.152604e-07   \n",
       "1  010106001          1           D12            SEH1  mHAA     1.000374e-08   \n",
       "2  010106001          1           D12            SEH1  tHAA     4.552726e-08   \n",
       "3  010106001          1           D12            SEH2  dHAA     6.867300e-09   \n",
       "4  010106001          1           D12            SEH2  mHAA     0.000000e+00   \n",
       "\n",
       "   BSF_Numerator       BSF  \n",
       "0   9.451101e-08  0.819978  \n",
       "1   1.000374e-08  1.000000  \n",
       "2   4.140495e-08  0.909454  \n",
       "3   6.867300e-09  1.000000  \n",
       "4   0.000000e+00       NaN  "
      ]
     },
     "execution_count": 39,
     "metadata": {},
     "output_type": "execute_result"
    }
   ],
   "source": [
    "df_hal_grp_bsf.head()"
   ]
  },
  {
   "cell_type": "markdown",
   "metadata": {},
   "source": [
    "### Export results"
   ]
  },
  {
   "cell_type": "code",
   "execution_count": 40,
   "metadata": {},
   "outputs": [],
   "source": [
    "# Combine and export HAA group data\n",
    "df_hal_grp_bsf2 = df_hal_grp_bsf[['PWSID', 'FacilityID', 'SamplePointID', 'SampleEventCode', 'Group', 'BSF']]\n",
    "df_hal_grp_export = pd.merge(left=df_hal_grp, right=df_hal_grp_bsf2, on=['PWSID', 'FacilityID', 'SamplePointID', 'SampleEventCode', 'Group'])\n",
    "df_grp_export = pd.concat([df_epa_grp, df_hal_grp_export]).reset_index().drop(columns='index')\n",
    "df_grp_export.to_csv(out_grp_path, index=False)"
   ]
  }
 ],
 "metadata": {
  "kernelspec": {
   "display_name": "Python 3.9.12 ('base')",
   "language": "python",
   "name": "python3"
  },
  "language_info": {
   "codemirror_mode": {
    "name": "ipython",
    "version": 3
   },
   "file_extension": ".py",
   "mimetype": "text/x-python",
   "name": "python",
   "nbconvert_exporter": "python",
   "pygments_lexer": "ipython3",
   "version": "3.9.12"
  },
  "orig_nbformat": 4,
  "vscode": {
   "interpreter": {
    "hash": "ad2bdc8ecc057115af97d19610ffacc2b4e99fae6737bb82f5d7fb13d2f2c186"
   }
  }
 },
 "nbformat": 4,
 "nbformat_minor": 2
}
